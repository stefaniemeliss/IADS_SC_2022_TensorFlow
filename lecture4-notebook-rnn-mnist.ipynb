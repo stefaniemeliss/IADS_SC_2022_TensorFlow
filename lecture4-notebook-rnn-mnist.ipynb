{
 "cells": [
  {
   "cell_type": "markdown",
   "metadata": {},
   "source": [
    "# Lecture 4 notebook (Recurrent Neural Networks Example 2: MNIST)\n",
    "## Introduction to TensorFlow and Deep Learning\n",
    "\n",
    "## IADS Summer School, 1st August 2022\n",
    "\n",
    "### Dr Michael Fairbank, University of Essex, UK\n",
    "\n",
    "- Email: m.fairbank@essex.ac.uk\n",
    "- This is a Jupyter Notebook to accompany Lecture 4 of the course\n",
    "\n"
   ]
  },
  {
   "cell_type": "markdown",
   "metadata": {},
   "source": [
    "## Build a time-sequence test problem\n",
    "\n",
    "- We will treat each 28*28 image of the MNIST digits as a time sequence!\n",
    "- We will ask a RNN to look at one row at a time of each image (i.e. a time sequence of rows)\n",
    "- The task for the RNN is simply to classify each digit\n",
    "- Acknowledgement: The idea for this demo came from https://github.com/aymericdamien/TensorFlow-Examples/blob/master/examples/3_NeuralNetworks/recurrent_network.py\n"
   ]
  },
  {
   "cell_type": "code",
   "execution_count": 1,
   "metadata": {},
   "outputs": [
    {
     "name": "stdout",
     "output_type": "stream",
     "text": [
      "Model: \"sequential\"\n",
      "_________________________________________________________________\n",
      " Layer (type)                Output Shape              Param #   \n",
      "=================================================================\n",
      " reshape (Reshape)           (10, 28, 28)              0         \n",
      "                                                                 \n",
      " lstm (LSTM)                 (10, 128)                 80384     \n",
      "                                                                 \n",
      " dense (Dense)               (10, 10)                  1290      \n",
      "                                                                 \n",
      " dense_1 (Dense)             (10, 10)                  110       \n",
      "                                                                 \n",
      "=================================================================\n",
      "Total params: 81,784\n",
      "Trainable params: 81,784\n",
      "Non-trainable params: 0\n",
      "_________________________________________________________________\n",
      "None\n"
     ]
    }
   ],
   "source": [
    "import tensorflow as tf\n",
    "import tensorflow.keras as keras\n",
    "import numpy as np\n",
    "\n",
    "mnist = tf.keras.datasets.mnist\n",
    "(train_images, train_labels),(test_images, test_labels) = mnist.load_data()\n",
    "# MNIST images are 28*28.  \n",
    "# Also rescale greyscale from 8 bit to floating point (by dividing by 255)\n",
    "test_images=test_images.astype('float32')/255.0 # 10000 test patterns, shape 10000*28*28\n",
    "train_images=train_images.astype('float32')/255.0 # 60000 train patterns, shape 60000*28*28\n",
    "\n",
    "'''\n",
    "To classify images using a recurrent neural network, we consider every image\n",
    "row as a sequence of pixels. Because MNIST image shape is 28*28px, we will then\n",
    "handle 28 sequences of 28 steps for every sample.\n",
    "'''\n",
    "\n",
    "num_classification_categories=train_labels.max()+1\n",
    "layer0=tf.keras.layers.Reshape((28,28))\n",
    "#layer1=tf.keras.layers.SimpleRNN(n_hidden, return_sequences=False) \n",
    "layer1=tf.keras.layers.LSTM(128, return_sequences=False) # receives input shape (batch_size, sequence_length, 28), and produces output shape (batch_size, 128)\n",
    "layer2=tf.keras.layers.Dense(10, activation='relu') # A fully connected layer with 10 outputs\n",
    "layer3=tf.keras.layers.Dense(num_classification_categories, activation=None) # final layer with 10 outputs (i.e. 10 probabilities)\n",
    "model = tf.keras.Sequential([layer0, layer1,layer2,layer3])\n",
    "\n",
    "model(train_images[0:10],True) # we have to run the network once before the trainable_variables are created\n",
    "print(model.summary())"
   ]
  },
  {
   "cell_type": "code",
   "execution_count": 2,
   "metadata": {},
   "outputs": [
    {
     "name": "stdout",
     "output_type": "stream",
     "text": [
      "Epoch 1/5\n",
      "469/469 [==============================] - 69s 135ms/step - loss: 0.7345 - accuracy: 0.7596 - val_loss: 0.2072 - val_accuracy: 0.9401\n",
      "Epoch 2/5\n",
      "469/469 [==============================] - 61s 131ms/step - loss: 0.1775 - accuracy: 0.9484 - val_loss: 0.1597 - val_accuracy: 0.9536\n",
      "Epoch 3/5\n",
      "469/469 [==============================] - 24s 52ms/step - loss: 0.1131 - accuracy: 0.9672 - val_loss: 0.1100 - val_accuracy: 0.9671\n",
      "Epoch 4/5\n",
      "469/469 [==============================] - 16s 33ms/step - loss: 0.0875 - accuracy: 0.9739 - val_loss: 0.0970 - val_accuracy: 0.9717\n",
      "Epoch 5/5\n",
      "469/469 [==============================] - 16s 34ms/step - loss: 0.0724 - accuracy: 0.9784 - val_loss: 0.0735 - val_accuracy: 0.9776\n"
     ]
    }
   ],
   "source": [
    "optimizer=keras.optimizers.Adam()\n",
    "\n",
    "model.compile(optimizer=optimizer,  \n",
    "              loss=keras.losses.SparseCategoricalCrossentropy(from_logits=True),\n",
    "              metrics=['accuracy'])\n",
    "\n",
    "history = model.fit(train_images, train_labels,\n",
    "                batch_size=128,\n",
    "                epochs=5,\n",
    "                validation_data=(test_images, test_labels))"
   ]
  },
  {
   "cell_type": "code",
   "execution_count": 4,
   "metadata": {},
   "outputs": [
    {
     "data": {
      "image/png": "[encoded data removed]",
      "text/plain": [
       "<Figure size 432x288 with 1 Axes>"
      ]
     },
     "metadata": {
      "needs_background": "light"
     },
     "output_type": "display_data"
    }
   ],
   "source": [
    "import matplotlib.pyplot as plt\n",
    "plt.plot(history.history['accuracy'], label='accuracy')\n",
    "plt.plot(history.history['val_accuracy'], label = 'val_accuracy')\n",
    "plt.xlabel('Epoch')\n",
    "plt.ylabel('Accuracy')\n",
    "plt.grid()\n",
    "plt.legend(loc='lower right')\n",
    "plt.show()"
   ]
  }
 ],
 "metadata": {
  "kernelspec": {
   "display_name": "Python 3 (ipykernel)",
   "language": "python",
   "name": "python3"
  },
  "language_info": {
   "codemirror_mode": {
    "name": "ipython",
    "version": 3
   },
   "file_extension": ".py",
   "mimetype": "text/x-python",
   "name": "python",
   "nbconvert_exporter": "python",
   "pygments_lexer": "ipython3",
   "version": "3.10.5"
  }
 },
 "nbformat": 4,
 "nbformat_minor": 4
}
